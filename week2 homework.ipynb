{
  "metadata": {
    "language_info": {
      "codemirror_mode": {
        "name": "python",
        "version": 3
      },
      "file_extension": ".py",
      "mimetype": "text/x-python",
      "name": "python",
      "nbconvert_exporter": "python",
      "pygments_lexer": "ipython3",
      "version": "3.8"
    },
    "kernelspec": {
      "name": "python",
      "display_name": "Python (Pyodide)",
      "language": "python"
    }
  },
  "nbformat_minor": 4,
  "nbformat": 4,
  "cells": [
    {
      "cell_type": "code",
      "source": "import numpy as np ",
      "metadata": {
        "trusted": true
      },
      "execution_count": 3,
      "outputs": []
    },
    {
      "cell_type": "code",
      "source": "one_dimensional_array = np.array([1.2, 2.4, 3.5, 4.7, 6.1, 7.2, 8.3, 9.5])\nprint(one_dimensional_array)",
      "metadata": {
        "trusted": true
      },
      "execution_count": 12,
      "outputs": [
        {
          "name": "stdout",
          "text": "[1.2 2.4 3.5 4.7 6.1 7.2 8.3 9.5]\n",
          "output_type": "stream"
        }
      ]
    },
    {
      "cell_type": "code",
      "source": "two_dimensional_array = np.array([[6, 5], [11, 7], [4, 8]])\nprint(two_dimensional_array)",
      "metadata": {
        "trusted": true
      },
      "execution_count": 5,
      "outputs": [
        {
          "name": "stdout",
          "text": "[[ 6  5]\n [11  7]\n [ 4  8]]\n",
          "output_type": "stream"
        }
      ]
    },
    {
      "cell_type": "code",
      "source": "sequence_of_integers = np.arange(5, 12)\nprint(sequence_of_integers)",
      "metadata": {
        "trusted": true
      },
      "execution_count": 6,
      "outputs": [
        {
          "name": "stdout",
          "text": "[ 5  6  7  8  9 10 11]\n",
          "output_type": "stream"
        }
      ]
    },
    {
      "cell_type": "code",
      "source": "random_integers_between_50_and_100 = np.random.randint(low=50, high=101, size=(6))\nprint(random_integers_between_50_and_100)",
      "metadata": {
        "trusted": true
      },
      "execution_count": 7,
      "outputs": [
        {
          "name": "stdout",
          "text": "[87 90 95 76 88 79]\n",
          "output_type": "stream"
        }
      ]
    },
    {
      "cell_type": "code",
      "source": "random_floats_between_0_and_1 = np.random.random([6])\nprint(random_floats_between_0_and_1) ",
      "metadata": {
        "trusted": true
      },
      "execution_count": 13,
      "outputs": [
        {
          "name": "stdout",
          "text": "[0.58497662 0.06289744 0.80966478 0.3606577  0.09674162 0.59201269]\n",
          "output_type": "stream"
        }
      ]
    },
    {
      "cell_type": "code",
      "source": "random_floats_between_2_and_3 = random_floats_between_0_and_1 + 2.0\nprint(random_floats_between_2_and_3)",
      "metadata": {
        "trusted": true
      },
      "execution_count": 14,
      "outputs": [
        {
          "name": "stdout",
          "text": "[2.58497662 2.06289744 2.80966478 2.3606577  2.09674162 2.59201269]\n",
          "output_type": "stream"
        }
      ]
    },
    {
      "cell_type": "code",
      "source": "random_integers_between_150_and_300 = random_integers_between_50_and_100 * 3\nprint(random_integers_between_150_and_300)",
      "metadata": {
        "trusted": true
      },
      "execution_count": 15,
      "outputs": [
        {
          "name": "stdout",
          "text": "[261 270 285 228 264 237]\n",
          "output_type": "stream"
        }
      ]
    },
    {
      "cell_type": "code",
      "source": "#task 1\n\nfeature = np.arange(6,21)  #Question(1)    \nprint(feature)\n\nlabel = np.random.randint(low=6, high=21, size=[15])   #Question(2)   \nprint(label)",
      "metadata": {
        "trusted": true
      },
      "execution_count": 18,
      "outputs": [
        {
          "name": "stdout",
          "text": "[ 6  7  8  9 10 11 12 13 14 15 16 17 18 19 20]\n[15 10 13 16  7 12 13 20 18 18 13 12 13 12  8]\n",
          "output_type": "stream"
        }
      ]
    },
    {
      "cell_type": "code",
      "source": "#@title Double-click to see a possible solution to Task 1.\nfeature = np.arange(6, 21)\nprint(feature)\nlabel = (feature * 3) + 4\nprint(label)",
      "metadata": {
        "trusted": true
      },
      "execution_count": 19,
      "outputs": [
        {
          "name": "stdout",
          "text": "[ 6  7  8  9 10 11 12 13 14 15 16 17 18 19 20]\n[22 25 28 31 34 37 40 43 46 49 52 55 58 61 64]\n",
          "output_type": "stream"
        }
      ]
    },
    {
      "cell_type": "code",
      "source": "#Task 2\n\nnoise =np.random.random([5]) #Question(1)\nprint(noise)\nlabel =label+noise #Question(2)\nprint(label)",
      "metadata": {
        "trusted": true
      },
      "execution_count": 28,
      "outputs": [
        {
          "name": "stdout",
          "text": "[0.74415786 0.55748655 0.2777926  0.80289019 0.47753399]\n[6.3949847  6.39202471 6.07869378 6.07039896 7.03471375]\n",
          "output_type": "stream"
        }
      ]
    },
    {
      "cell_type": "code",
      "source": "#@title Double-click to see a possible solution to Task 2.\n\nnoise = (np.random.random([5]) * 4) - 2\nprint(noise)\nlabel = label + noise \nprint(label)",
      "metadata": {
        "trusted": true
      },
      "execution_count": 29,
      "outputs": [
        {
          "name": "stdout",
          "text": "[-1.39027341 -0.55104629 -1.65801606 -1.20007995 -0.45142881]\n[5.00471129 5.84097842 4.42067772 4.87031901 6.58328494]\n",
          "output_type": "stream"
        }
      ]
    },
    {
      "cell_type": "code",
      "source": "",
      "metadata": {},
      "execution_count": null,
      "outputs": []
    }
  ]
}